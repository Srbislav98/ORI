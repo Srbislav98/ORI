{
 "cells": [
  {
   "cell_type": "code",
   "execution_count": 1,
   "metadata": {},
   "outputs": [],
   "source": [
    "import pandas\n",
    "import tensorflow as tf\n",
    "\n",
    "PUTANJA = 'C:/Users/User/Desktop/chest-xray-dataset-test'# staviti na putanju foldera koji sadrzi chest_xray_test_dataset csv fajl\n",
    "csv_fajl = pandas.read_csv(PUTANJA + r\"\\chest_xray_test_dataset.csv\")\n",
    "\n",
    "model = tf.keras.models.load_model('saved_model\\\\0-dense---32-nodes---1-conv---accuracy-95_08')# staviti na putanju foldera koji sadrzi model\n",
    "\n",
    "KATEGORIJE = ['ZDRAV', 'VIRUS', 'BAKTERIJA']# menjanje ovog niza ce uticati na ispis odgovora (iako ga u ovom testu ne koristimo)\n",
    "IMG_SIZE = 400# menjati samo ako pri promeni model koji to zahteva (svi modeli koji su okaceni na git zahtevaju IMG_SIZE 400)"
   ]
  },
  {
   "cell_type": "code",
   "execution_count": 2,
   "metadata": {},
   "outputs": [
    {
     "name": "stdout",
     "output_type": "stream",
     "text": [
      "Ucitao 624 objekata\n",
      "Za epp 10, model je dobio399 tacnih odgovora, a 225 netacnih odgovora (63.9% tacnosti)\n"
     ]
    }
   ],
   "source": [
    "import numpy as np\n",
    "import cv2\n",
    "\n",
    "\n",
    "train_y = np.ndarray(0)\n",
    "ssi = 0\n",
    "if True:# da ne bih morao da brisem tab ispred svake linije\n",
    "    for index, row in csv_fajl.iterrows():\n",
    "        if ssi < 11:\n",
    "            if row['Label'] != 'Normal':\n",
    "                if str(row['Label_2_Virus_category']) != 'nan':\n",
    "                    if row['Label_2_Virus_category'] == 'Streptococcus':\n",
    "                        #csv_fajl.at[str(index), 'Label'] = 3\n",
    "                        train_y = np.append(train_y, 3)\n",
    "                        #row['Label'] = 3\n",
    "                    elif row['Label_2_Virus_category'] == 'COVID-19':\n",
    "                        #csv_fajl.at[str(index), 'Label'] = 4\n",
    "                        train_y = np.append(train_y, 4)\n",
    "                        #row['Label'] = 4\n",
    "                    elif row['Label_2_Virus_category'] == 'ARDS':\n",
    "                        #csv_fajl.at[str(index), 'Label'] = 5\n",
    "                        train_y = np.append(train_y, 5)\n",
    "                        #row['Label'] = 5\n",
    "                    elif row['Label_2_Virus_category'] == 'SARS':\n",
    "                        #csv_fajl.at[str(index), 'Label'] = 6\n",
    "                        train_y = np.append(train_y, 6)\n",
    "                        #row['Label'] = 6\n",
    "                    else:\n",
    "                        pass\n",
    "                    # print(row['Label'], \" => \" , row['Label_1_Virus_category'], \"|\", row['Label_2_Virus_category'])#, row['X_ray_image_name'])\n",
    "                else:\n",
    "                    if row['Label_1_Virus_category'] == 'Virus':\n",
    "                        #csv_fajl.at[str(index), 'Label'] = 1\n",
    "                        train_y = np.append(train_y, 1)\n",
    "                        #row['Label'] = 1\n",
    "                    elif row['Label_1_Virus_category'] == 'bacteria':\n",
    "                        #csv_fajl.at[str(index), 'Label'] = 2\n",
    "                        train_y = np.append(train_y, 2)\n",
    "                        #row['Label'] = 2\n",
    "                    else:\n",
    "                        pass\n",
    "                    # print(row['Label'], \" => \" , row['Label_1_Virus_category'], \"|\", row['Label_2_Virus_category'])#, row['X_ray_image_name'])\n",
    "            else:\n",
    "                #csv_fajl.at[str(index), 'Label'] = 0\n",
    "                train_y = np.append(train_y, 0)\n",
    "                #row['Label'] = 0\n",
    "\n",
    "    print(\"Ucitao \" + str(len(train_y)) + \" objekata\")\n",
    "\n",
    "for epp in [10]:#[1, 2, 3, 5, 10, 20]:\n",
    "\n",
    "    model = tf.keras.models.load_model('saved_model\\\\100ep' + str(epp))# staviti na putanju foldera koji sadrzi model\n",
    "\n",
    "\n",
    "\n",
    "    \n",
    "    \n",
    "    csv_fajl.head()\n",
    "    training_data = []\n",
    "    ssi3 = 0\n",
    "    ssi2 = 0;\n",
    "\n",
    "    \n",
    "\n",
    "    for index, row in csv_fajl.iterrows():\n",
    "        img_name = row['X_ray_image_name']\n",
    "        lokacija = PUTANJA + '/test/' + str(img_name)\n",
    "        test_slika = cv2.imread(lokacija, cv2.IMREAD_GRAYSCALE)\n",
    "        test_slika = cv2.resize(test_slika, dsize=(IMG_SIZE, IMG_SIZE), interpolation=cv2.INTER_CUBIC)\n",
    "        test_slika = np.array(test_slika)\n",
    "        test_slika = (np.expand_dims(test_slika, 0))\n",
    "        test_slika = (np.expand_dims(test_slika,-1))\n",
    "\n",
    "        prediction = model.predict(test_slika)\n",
    "\n",
    "        if int(np.argmax(prediction[0])) != int(train_y[index]):\n",
    "            ssi3 += 1\n",
    "        else:\n",
    "            ssi2 += 1\n",
    "\n",
    "\n",
    "    print('Za epp ' + str(epp) + ', model je dobio' + str(ssi2) + ' tacnih odgovora, a ' + str(ssi3) + ' netacnih odgovora (' + str(round((ssi2)/(len(train_y))*100, 1)) + \"% tacnosti)\")\n"
   ]
  },
  {
   "cell_type": "markdown",
   "metadata": {},
   "source": [
    "Za epp 1, model je dobio342 tacnih odgovora, a 282 netacnih odgovora (54.8% tacnosti)\n",
    "Za epp 2, model je dobio327 tacnih odgovora, a 297 netacnih odgovora (52.4% tacnosti)\n",
    "Za epp 3, model je dobio398 tacnih odgovora, a 226 netacnih odgovora (63.8% tacnosti)\n",
    "Za epp 5, model je dobio350 tacnih odgovora, a 274 netacnih odgovora (56.1% tacnosti)\n",
    "Za epp 10, model je dobio399 tacnih odgovora, a 225 netacnih odgovora (63.9% tacnosti)\n",
    "Za epp 20, model je dobio367 tacnih odgovora, a 257 netacnih odgovora (58.8% tacnosti)"
   ]
  }
 ],
 "metadata": {
  "kernelspec": {
   "display_name": "Python 3",
   "language": "python",
   "name": "python3"
  },
  "language_info": {
   "codemirror_mode": {
    "name": "ipython",
    "version": 3
   },
   "file_extension": ".py",
   "mimetype": "text/x-python",
   "name": "python",
   "nbconvert_exporter": "python",
   "pygments_lexer": "ipython3",
   "version": "3.7.6"
  }
 },
 "nbformat": 4,
 "nbformat_minor": 4
}
