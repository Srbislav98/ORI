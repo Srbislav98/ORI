{
 "cells": [
  {
   "cell_type": "code",
   "execution_count": 1,
   "metadata": {},
   "outputs": [],
   "source": [
    "import pandas\n",
    "\n",
    "import numpy as np\n",
    "import matplotlib.pyplot as plt\n",
    "import cv2\n",
    "\n",
    "%matplotlib inline"
   ]
  },
  {
   "cell_type": "markdown",
   "metadata": {},
   "source": [
    "Definisanje globalnih promenljivih za lakse menjanje"
   ]
  },
  {
   "cell_type": "code",
   "execution_count": 11,
   "metadata": {},
   "outputs": [],
   "source": [
    "PUTANJA = 'C:/Users/User/Desktop/AI'\n",
    "KATEGORIJE = ['ZDRAV', 'VIRUS', 'BAKTERIJA', 'STREPTOCOCCUS', 'COVID-19', 'ARDS', 'SARS']\n",
    "IMG_SIZE = 400"
   ]
  },
  {
   "cell_type": "code",
   "execution_count": null,
   "metadata": {},
   "outputs": [],
   "source": []
  },
  {
   "cell_type": "code",
   "execution_count": 2,
   "metadata": {},
   "outputs": [],
   "source": [
    "from tensorflow.keras.callbacks import TensorBoard\n",
    "import time\n",
    "\n",
    "IME = \"Model-Pluca-9x2-{}\".format(int(time.time()))\n",
    "tensorboard = TensorBoard(log_dir='logs/{}'.format(IME))"
   ]
  },
  {
   "cell_type": "markdown",
   "metadata": {},
   "source": [
    "Pravljenje niza labela \"train_y\" i punimo ga brojevnim reprezentacijama zadatih kategorija"
   ]
  },
  {
   "cell_type": "code",
   "execution_count": 4,
   "metadata": {},
   "outputs": [],
   "source": [
    "csv_fajl = pandas.read_csv(PUTANJA + r\"\\chest_xray_metadata.csv\")  # promeniti na svoju lokaciju\n",
    "\n",
    "# uklanjamo pusace zbog manjka slika (takodje je tako navedeno u zadatku)\n",
    "\n",
    "train_y = np.ndarray(0)\n",
    "\n",
    "for index, row in csv_fajl.iterrows():\n",
    "    if row['Label'] != 'Normal':\n",
    "        if str(row['Label_2_Virus_category']) != 'nan':\n",
    "            if row['Label_2_Virus_category'] == 'Streptococcus':\n",
    "                #csv_fajl.at[str(index), 'Label'] = 3\n",
    "                train_y = np.append(train_y, 3)\n",
    "                #row['Label'] = 3\n",
    "            elif row['Label_2_Virus_category'] == 'COVID-19':\n",
    "                #csv_fajl.at[str(index), 'Label'] = 4\n",
    "                train_y = np.append(train_y, 4)\n",
    "                #row['Label'] = 4\n",
    "            elif row['Label_2_Virus_category'] == 'ARDS':\n",
    "                #csv_fajl.at[str(index), 'Label'] = 5\n",
    "                train_y = np.append(train_y, 5)\n",
    "                #row['Label'] = 5\n",
    "            elif row['Label_2_Virus_category'] == 'SARS':\n",
    "                #csv_fajl.at[str(index), 'Label'] = 6\n",
    "                train_y = np.append(train_y, 6)\n",
    "                #row['Label'] = 6\n",
    "            else:\n",
    "                print('promaseno ' + row['Label_2_Virus_category'])\n",
    "            # print(row['Label'], \" => \" , row['Label_1_Virus_category'], \"|\", row['Label_2_Virus_category'])#, row['X_ray_image_name'])\n",
    "        else:\n",
    "            if row['Label_1_Virus_category'] == 'Virus':\n",
    "                #csv_fajl.at[str(index), 'Label'] = 1\n",
    "                train_y = np.append(train_y, 1)\n",
    "                #row['Label'] = 1\n",
    "            elif row['Label_1_Virus_category'] == 'bacteria':\n",
    "                #csv_fajl.at[str(index), 'Label'] = 2\n",
    "                train_y = np.append(train_y, 2)\n",
    "                #row['Label'] = 2\n",
    "            else:\n",
    "                print('promaseno ' + row['Label_1_Virus_category'])\n",
    "            # print(row['Label'], \" => \" , row['Label_1_Virus_category'], \"|\", row['Label_2_Virus_category'])#, row['X_ray_image_name'])\n",
    "    else:\n",
    "        #csv_fajl.at[str(index), 'Label'] = 0\n",
    "        train_y = np.append(train_y, 0)\n",
    "        #row['Label'] = 0"
   ]
  },
  {
   "cell_type": "markdown",
   "metadata": {},
   "source": []
  },
  {
   "cell_type": "code",
   "execution_count": 5,
   "metadata": {},
   "outputs": [],
   "source": [
    "csv_fajl.head()\n",
    "training_data = []\n",
    "\n",
    "for index, row in csv_fajl.iterrows():\n",
    "    img_name = row['X_ray_image_name']\n",
    "    lokacija = PUTANJA + '/snimci/' + str(img_name)\n",
    "    try:# za slucaj da neka slika ostecena \n",
    "        slika = cv2.imread(lokacija, cv2.IMREAD_GRAYSCALE)\n",
    "        slika = cv2.resize(slika, dsize=(IMG_SIZE, IMG_SIZE), interpolation=cv2.INTER_CUBIC)\n",
    "        training_data.append([slika, int(train_y[index])])\n",
    "    except:\n",
    "        print(\"Ostecena slika \" + str(img_name))"
   ]
  },
  {
   "cell_type": "code",
   "execution_count": 6,
   "metadata": {},
   "outputs": [
    {
     "name": "stdout",
     "output_type": "stream",
     "text": [
      "5286\n"
     ]
    },
    {
     "data": {
      "text/plain": [
       "'\\nfor index, row in csv_fajl.iterrows():\\n    img_name = row[\\'X_ray_image_name\\']\\n    lokacija = PUTANJA + \\'/snimci/\\' + str(img_name)\\n    try:# za slucaj da neka slika ostecena \\n        slika = cv2.imread(lokacija, cv2.IMREAD_GRAYSCALE)\\n        slika = cv2.resize(slika, dsize=(IMG_SIZE, IMG_SIZE), interpolation=cv2.INTER_CUBIC)\\n        print(str(train_y[index]) + \" ==> \" + str(img_name))\\n    except:\\n        print(\"Ostecena slika \" + str(img_name))\\n'"
      ]
     },
     "execution_count": 6,
     "metadata": {},
     "output_type": "execute_result"
    }
   ],
   "source": [
    "print(len(training_data))\n",
    "\"\"\"\n",
    "for index, row in csv_fajl.iterrows():\n",
    "    img_name = row['X_ray_image_name']\n",
    "    lokacija = PUTANJA + '/snimci/' + str(img_name)\n",
    "    try:# za slucaj da neka slika ostecena \n",
    "        slika = cv2.imread(lokacija, cv2.IMREAD_GRAYSCALE)\n",
    "        slika = cv2.resize(slika, dsize=(IMG_SIZE, IMG_SIZE), interpolation=cv2.INTER_CUBIC)\n",
    "        print(str(train_y[index]) + \" ==> \" + str(img_name))\n",
    "    except:\n",
    "        print(\"Ostecena slika \" + str(img_name))\n",
    "\"\"\""
   ]
  },
  {
   "cell_type": "code",
   "execution_count": 7,
   "metadata": {},
   "outputs": [],
   "source": [
    "import random\n",
    "\n",
    "random.shuffle(training_data)"
   ]
  },
  {
   "cell_type": "code",
   "execution_count": null,
   "metadata": {},
   "outputs": [],
   "source": []
  },
  {
   "cell_type": "code",
   "execution_count": 8,
   "metadata": {},
   "outputs": [],
   "source": [
    "X = []\n",
    "y = []"
   ]
  },
  {
   "cell_type": "code",
   "execution_count": null,
   "metadata": {},
   "outputs": [],
   "source": []
  },
  {
   "cell_type": "code",
   "execution_count": 9,
   "metadata": {},
   "outputs": [],
   "source": [
    "for features, label in training_data:\n",
    "    X.append(features)\n",
    "    y.append(label)\n",
    "    \n",
    "X = np.array(X).reshape(-1, IMG_SIZE, IMG_SIZE, 1)"
   ]
  },
  {
   "cell_type": "code",
   "execution_count": null,
   "metadata": {},
   "outputs": [],
   "source": []
  },
  {
   "cell_type": "code",
   "execution_count": 10,
   "metadata": {},
   "outputs": [],
   "source": [
    "import pickle\n",
    "\n",
    "pickle_out = open(\"X.pickle\", \"wb\")\n",
    "pickle.dump(X, pickle_out)\n",
    "pickle_out.close()\n",
    "\n",
    "pickle_out = open(\"y.pickle\", \"wb\")\n",
    "pickle.dump(y, pickle_out)\n",
    "pickle_out.close()"
   ]
  },
  {
   "cell_type": "markdown",
   "metadata": {},
   "source": [
    "Kreiranje CNN-a"
   ]
  },
  {
   "cell_type": "code",
   "execution_count": 3,
   "metadata": {},
   "outputs": [],
   "source": [
    "import tensorflow as tf\n",
    "from tensorflow.keras.models import Sequential\n",
    "from tensorflow.keras.layers import Dense, Dropout, Activation, Flatten, Conv2D, MaxPooling2D"
   ]
  },
  {
   "cell_type": "code",
   "execution_count": 12,
   "metadata": {},
   "outputs": [],
   "source": [
    "import pickle\n",
    "X = pickle.load(open(\"X.pickle\", \"rb\"))\n",
    "y = pickle.load(open(\"y.pickle\", \"rb\"))\n",
    "\n",
    "X = X/255.0"
   ]
  },
  {
   "cell_type": "code",
   "execution_count": 13,
   "metadata": {},
   "outputs": [],
   "source": [
    "#import os\n",
    "#os.environ[\"CUDA_DEVICE_ORDER\"] = \"PCI_BUS_ID\"\n",
    "#os.environ['CUDA_VISIBLE_DEVICES'] = '-1'"
   ]
  },
  {
   "cell_type": "markdown",
   "metadata": {},
   "source": [
    "# Trenutni META\n",
    "####################### \n",
    "from tensorflow.keras.optimizers import RMSprop\n",
    "model = tf.keras.models.Sequential([\n",
    "  \n",
    "    # Note the input shape is the desired size of the image 300x300 with 3 bytes color\n",
    "    # This is the first convolution\n",
    "    # model.add(Conv2D(64, (3,3), input_shape = X.shape[1:]))\n",
    "    tf.keras.layers.Flatten(input_shape = X.shape[1:]),\n",
    "    tf.keras.layers.Dense(128, activation='relu'),\n",
    "    tf.keras.layers.Dense(7)\n",
    "])\n",
    "\n",
    "####### to get the summary of the model\n",
    "model.summary()\n",
    "\n",
    "####### configure the model for traning by adding metrics\n",
    "model.compile(optimizer='adam',\n",
    "              loss=tf.keras.losses.SparseCategoricalCrossentropy(from_logits=True),\n",
    "              metrics=['accuracy']\n",
    "             )\n",
    "#######################"
   ]
  },
  {
   "cell_type": "markdown",
   "metadata": {},
   "source": [
    "# Ne radi\n",
    "model = Sequential()\n",
    "model.add(Conv2D(64, (3,3), input_shape = X.shape[1:]))\n",
    "model.add(Activation(\"relu\"))\n",
    "model.add(MaxPooling2D(pool_size=(2,2)))\n",
    "\n",
    "model.add(Conv2D(64, (3,3)))\n",
    "model.add(Activation(\"relu\"))\n",
    "model.add(MaxPooling2D(pool_size=(2,2)))\n",
    "\n",
    "model.add(Flatten())\n",
    "\n",
    "model.add(Dense(1))\n",
    "model.add(Activation('sigmoid'))\n",
    "\n",
    "model.compile(loss=\"categorical_crossentropy\",\n",
    "             optimizer=\"adam\",\n",
    "             metrics=['accuracy'])"
   ]
  },
  {
   "cell_type": "code",
   "execution_count": null,
   "metadata": {
    "scrolled": true
   },
   "outputs": [
    {
     "name": "stdout",
     "output_type": "stream",
     "text": [
      "0-dense---32-nodes---1-conv---1595949597\n",
      "Epoch 1/5\n",
      "  2/529 [..............................] - ETA: 13:46 - loss: 1.6269 - accuracy: 0.3889 WARNING:tensorflow:Method (on_train_batch_end) is slow compared to the batch update (1.738924). Check your callbacks.\n",
      "  3/529 [..............................] - ETA: 10:33 - loss: 5.4515 - accuracy: 0.2963WARNING:tensorflow:Method (on_train_batch_end) is slow compared to the batch update (1.121491). Check your callbacks.\n",
      "  4/529 [..............................] - ETA: 8:33 - loss: 16.7096 - accuracy: 0.2222WARNING:tensorflow:Method (on_train_batch_end) is slow compared to the batch update (0.570220). Check your callbacks.\n",
      "529/529 [==============================] - 248s 468ms/step - loss: 1.1148 - accuracy: 0.7276 - val_loss: 0.5198 - val_accuracy: 0.7996\n",
      "Epoch 2/5\n",
      "117/529 [=====>........................] - ETA: 1:47 - loss: 0.3968 - accuracy: 0.8376"
     ]
    }
   ],
   "source": [
    "from tensorflow.keras.optimizers import RMSprop\n",
    "\n",
    "dense_layers = [0]\n",
    "layer_sizes = [32]\n",
    "conv_layers = [1]\n",
    "\n",
    "for dense_layer in dense_layers:\n",
    "    for layer_size in layer_sizes:\n",
    "        for conv_layer in conv_layers:\n",
    "            NAME = \"{}-dense---{}-nodes---{}-conv---{}\".format(dense_layer, layer_size, conv_layer, int(time.time()))\n",
    "            tensorboard = TensorBoard(log_dir='logs_test/{}'.format(IME))\n",
    "            print(NAME)\n",
    "\n",
    "            model = tf.keras.models.Sequential()\n",
    "            \n",
    "            model.add(Conv2D(layer_size, (3, 3), input_shape = X.shape[1:]))\n",
    "            model.add(Activation('relu'))\n",
    "            model.add(MaxPooling2D(pool_size=(2, 2)))\n",
    "            \n",
    "            for l in range(conv_layer-1):\n",
    "                model.add(Conv2D(layer_size, (3, 3)))\n",
    "                model.add(Activation('relu'))\n",
    "                model.add(MaxPooling2D(pool_size=(2, 2)))\n",
    "            \n",
    "            model.add(Flatten())\n",
    "            \n",
    "            for l in range(dense_layer):\n",
    "                model.add(Dense(layer_size))\n",
    "                model.add(Activation('relu'))\n",
    "            \n",
    "            \n",
    "            model.add(Dense(7))\n",
    "\n",
    "            model.compile(optimizer='adam',\n",
    "                          loss=tf.keras.losses.SparseCategoricalCrossentropy(from_logits=True),\n",
    "                          metrics=['accuracy']\n",
    "            )\n",
    "            model.fit(np.array(X), np.array(y), batch_size=9,  epochs=5, validation_split=0.1, callbacks=[tensorboard])"
   ]
  },
  {
   "cell_type": "markdown",
   "metadata": {},
   "source": [
    "# model.fit(np.array(X), np.array(y), batch_size=9,  epochs=2, validation_split=0.1, callbacks=[tensorboard])"
   ]
  },
  {
   "cell_type": "code",
   "execution_count": null,
   "metadata": {},
   "outputs": [],
   "source": [
    "# model.fit(np.array(X), np.array(y), batch_size=9,  epochs=2, validation_split=0.1, callbacks=[tensorboard])"
   ]
  },
  {
   "cell_type": "markdown",
   "metadata": {},
   "source": [
    "za 400:\n",
    "    Epoch 1/10\n",
    "    529/529 518s 979ms/step - loss: 1.5214e-07 - accuracy: 0.2466 - val_loss: 1.3859e-07 - val_accuracy: 0.3119\n",
    "    Epoch 2/10\n",
    "    529/529 507s 958ms/step - loss: 1.5214e-07 - accuracy: 0.2466 - val_loss: 1.3859e-07 - val_accuracy: 0.3119\n",
    "    \n",
    "za 350:\n",
    "    Epoch 1/10\n",
    "    529/529 394s 745ms/step - loss: 1.4998e-07 - accuracy: 0.2527 - val_loss: 1.5797e-07 - val_accuracy: 0.2212"
   ]
  },
  {
   "cell_type": "code",
   "execution_count": null,
   "metadata": {},
   "outputs": [],
   "source": [
    "''' #conv i dense su zamenjeni\n",
    "0-conv---32-nodes---1-dense---1595918749\n",
    "Epoch 1/2\n",
    "  2/529 [..............................] - ETA: 5:37 - loss: 13.7277 - accuracy: 0.2778WARNING:tensorflow:Method (on_train_batch_end) is slow compared to the batch update (0.579315). Check your callbacks.\n",
    "529/529 [==============================] - 78s 148ms/step - loss: 1.1279 - accuracy: 0.7305 - val_loss: 0.4849 - val_accuracy: 0.7958\n",
    "Epoch 2/2\n",
    "529/529 [==============================] - 77s 145ms/step - loss: 0.3876 - accuracy: 0.8400 - val_loss: 0.5005 - val_accuracy: 0.7788\n",
    "0-conv---32-nodes---2-dense---1595918911\n",
    "Epoch 1/2\n",
    "  2/529 [..............................] - ETA: 6:36 - loss: 2.6182 - accuracy: 0.2222  WARNING:tensorflow:Method (on_train_batch_end) is slow compared to the batch update (0.639454). Check your callbacks.\n",
    "529/529 [==============================] - 130s 247ms/step - loss: 0.6906 - accuracy: 0.7219 - val_loss: 0.5290 - val_accuracy: 0.7543\n",
    "Epoch 2/2\n",
    "529/529 [==============================] - 127s 240ms/step - loss: 0.4883 - accuracy: 0.7965 - val_loss: 0.5098 - val_accuracy: 0.7750\n",
    "0-conv---32-nodes---3-dense---1595919185\n",
    "Epoch 1/2\n",
    "  2/529 [..............................] - ETA: 28:20 - loss: 1.6812 - accuracy: 0.2222 WARNING:tensorflow:Method (on_train_batch_end) is slow compared to the batch update (3.884267). Check your callbacks.\n",
    "  3/529 [..............................] - ETA: 19:36 - loss: 1.8325 - accuracy: 0.2222WARNING:tensorflow:Method (on_train_batch_end) is slow compared to the batch update (3.170902). Check your callbacks.\n",
    "  4/529 [..............................] - ETA: 15:14 - loss: 1.7329 - accuracy: 0.3056WARNING:tensorflow:Method (on_train_batch_end) is slow compared to the batch update (1.585950). Check your callbacks.\n",
    "529/529 [==============================] - 149s 282ms/step - loss: 0.6922 - accuracy: 0.7072 - val_loss: 0.5050 - val_accuracy: 0.7826\n",
    "Epoch 2/2\n",
    "529/529 [==============================] - 138s 262ms/step - loss: 0.4884 - accuracy: 0.7917 - val_loss: 0.4616 - val_accuracy: 0.7996\n",
    "0-conv---64-nodes---1-dense---1595919881\n",
    "Epoch 1/2\n",
    "  2/529 [..............................] - ETA: 15:05 - loss: 1.2220 - accuracy: 0.4444WARNING:tensorflow:Method (on_train_batch_end) is slow compared to the batch update (1.875274). Check your callbacks.\n",
    "  3/529 [..............................] - ETA: 11:07 - loss: 1.5099 - accuracy: 0.5185WARNING:tensorflow:Method (on_train_batch_end) is slow compared to the batch update (0.977435). Check your callbacks.\n",
    "  4/529 [..............................] - ETA: 8:57 - loss: 8.1165 - accuracy: 0.4167 WARNING:tensorflow:Method (on_train_batch_end) is slow compared to the batch update (0.489217). Check your callbacks.\n",
    "529/529 [==============================] - 157s 297ms/step - loss: 1.1844 - accuracy: 0.7244 - val_loss: 0.5493 - val_accuracy: 0.7580\n",
    "Epoch 2/2\n",
    "529/529 [==============================] - 154s 292ms/step - loss: 0.3973 - accuracy: 0.8343 - val_loss: 0.5036 - val_accuracy: 0.7902\n",
    "0-conv---64-nodes---2-dense---1595920347\n",
    "Epoch 1/2\n",
    "  2/529 [..............................] - ETA: 12:34 - loss: 2.9759 - accuracy: 0.1667 WARNING:tensorflow:Method (on_train_batch_end) is slow compared to the batch update (1.231208). Check your callbacks.\n",
    "529/529 [==============================] - 266s 503ms/step - loss: 0.6934 - accuracy: 0.7271 - val_loss: 0.5445 - val_accuracy: 0.7826\n",
    "Epoch 2/2\n",
    "529/529 [==============================] - 261s 493ms/step - loss: 0.4769 - accuracy: 0.8001 - val_loss: 0.5115 - val_accuracy: 0.7807\n",
    "0-conv---64-nodes---3-dense---1595921035\n",
    "Epoch 1/2\n",
    "  2/529 [..............................] - ETA: 10:17 - loss: 1.5227 - accuracy: 0.2778WARNING:tensorflow:Method (on_train_batch_end) is slow compared to the batch update (1.054166). Check your callbacks.\n",
    "529/529 [==============================] - 293s 554ms/step - loss: 0.7026 - accuracy: 0.7042 - val_loss: 0.6996 - val_accuracy: 0.6975\n",
    "Epoch 2/2\n",
    "529/529 [==============================] - 281s 532ms/step - loss: 0.5167 - accuracy: 0.7803 - val_loss: 0.4647 - val_accuracy: 0.7921\n",
    "0-conv---128-nodes---1-dense---1595921841\n",
    "Epoch 1/2\n",
    "  2/529 [..............................] - ETA: 16:24 - loss: 8.4130 - accuracy: 0.3333 WARNING:tensorflow:Method (on_train_batch_end) is slow compared to the batch update (1.664864). Check your callbacks.\n",
    "529/529 [==============================] - 323s 611ms/step - loss: 1.6026 - accuracy: 0.7194 - val_loss: 0.5205 - val_accuracy: 0.7902\n",
    "Epoch 2/2\n",
    "529/529 [==============================] - 313s 592ms/step - loss: 0.4310 - accuracy: 0.8226 - val_loss: 0.5366 - val_accuracy: 0.7750\n",
    "0-conv---128-nodes---2-dense---1595922863\n",
    "Epoch 1/2\n",
    "  2/529 [..............................] - ETA: 12:51 - loss: 3.6535 - accuracy: 0.2222WARNING:tensorflow:Method (on_train_batch_end) is slow compared to the batch update (1.211521). Check your callbacks.\n",
    "529/529 [==============================] - 568s 1s/step - loss: 0.7377 - accuracy: 0.7030 - val_loss: 0.5345 - val_accuracy: 0.7694\n",
    "Epoch 2/2\n",
    "529/529 [==============================] - 550s 1s/step - loss: 0.4739 - accuracy: 0.8016 - val_loss: 0.5118 - val_accuracy: 0.7694\n",
    "0-conv---128-nodes---3-dense---1595924202\n",
    "Epoch 1/2\n",
    "  2/529 [..............................] - ETA: 31:55 - loss: 2.1914 - accuracy: 0.2778WARNING:tensorflow:Method (on_train_batch_end) is slow compared to the batch update (3.035765). Check your callbacks.\n",
    "  3/529 [..............................] - ETA: 27:51 - loss: 1.8927 - accuracy: 0.2963WARNING:tensorflow:Method (on_train_batch_end) is slow compared to the batch update (2.244955). Check your callbacks.\n",
    " 56/529 [==>...........................] - ETA: 13:38 - loss: 1.0876 - accuracy: 0.5258\n",
    " '''\n",
    "\n",
    "'''\n",
    "0-coonv---32-nodes---1-dense---1595918749\n",
    "529/529 [==============================] - 77s 145ms/step - loss: 0.3876 - accuracy: 0.8400 - val_loss: 0.5005 - val_accuracy: 0.7788\n",
    "\n",
    "0-coonv---32-nodes---2-dense---1595918911\n",
    "529/529 [==============================] - 127s 240ms/step - loss: 0.4883 - accuracy: 0.7965 - val_loss: 0.5098 - val_accuracy: 0.7750\n",
    "\n",
    "0-coonv---32-nodes---3-dense---1595919185\n",
    "529/529 [==============================] - 138s 262ms/step - loss: 0.4884 - accuracy: 0.7917 - val_loss: 0.4616 - val_accuracy: 0.7996\n",
    "\n",
    "0-coonv---64-nodes---1-dense---1595919881\n",
    "529/529 [==============================] - 154s 292ms/step - loss: 0.3973 - accuracy: 0.8343 - val_loss: 0.5036 - val_accuracy: 0.7902\n",
    "\n",
    "0-coonv---64-nodes---2-dense---1595920347\n",
    "529/529 [==============================] - 261s 493ms/step - loss: 0.4769 - accuracy: 0.8001 - val_loss: 0.5115 - val_accuracy: 0.7807\n",
    "\n",
    "0-coonv---64-nodes---3-dense---1595921035\n",
    "529/529 [==============================] - 281s 532ms/step - loss: 0.5167 - accuracy: 0.7803 - val_loss: 0.4647 - val_accuracy: 0.7921\n",
    "\n",
    "0-coonv---128-nodes---1-dense---1595921841\n",
    "529/529 [==============================] - 313s 592ms/step - loss: 0.4310 - accuracy: 0.8226 - val_loss: 0.5366 - val_accuracy: 0.7750\n",
    "\n",
    "0-coonv---128-nodes---2-dense---1595922863\n",
    "529/529 [==============================] - 550s 1s/step - loss: 0.4739 - accuracy: 0.8016 - val_loss: 0.5118 - val_accuracy: 0.7694\n",
    "\n",
    "0-coonv---128-nodes---3-dense---1595924202\n",
    "Epoch 1/2\n",
    "  2/529 [..............................] - ETA: 31:55 - loss: 2.1914 - accuracy: 0.2778WARNING:tensorflow:Method (on_train_batch_end) is slow compared to the batch update (3.035765). Check your callbacks.\n",
    "  3/529 [..............................] - ETA: 27:51 - loss: 1.8927 - accuracy: 0.2963WARNING:tensorflow:Method (on_train_batch_end) is slow compared to the batch update (2.244955). Check your callbacks.\n",
    " 56/529 [==>...........................] - ETA: 13:38 - loss: 1.0876 - accuracy: 0.5258\n",
    "'''"
   ]
  },
  {
   "cell_type": "markdown",
   "metadata": {},
   "source": [
    "## kompjuter se pregrejao i ugasio se, tako da mozda fali nekoliko izmena (osim koda za cuvanje promena). meni izgleda kao da je sve ostalo tu, tako da nastavljam, iako nisam ponovo testirao kod, sa vec sacuvanim modelom sa 94.08% preciznosti"
   ]
  },
  {
   "cell_type": "markdown",
   "metadata": {},
   "source": [
    "# Koriscenje modela"
   ]
  },
  {
   "cell_type": "code",
   "execution_count": 83,
   "metadata": {},
   "outputs": [],
   "source": [
    "model = tf.keras.models.load_model('saved_model\\\\0-dense---32-nodes---1-conv---accuracy-95_08')# kod za ucitavanje modela koji se nalazi u folderu saved_model koji sadrzi folder 0-dense---32-nodes---1-conv---accuracy-95_08"
   ]
  },
  {
   "cell_type": "code",
   "execution_count": 7,
   "metadata": {},
   "outputs": [
    {
     "name": "stdout",
     "output_type": "stream",
     "text": [
      "Model: \"sequential\"\n",
      "_________________________________________________________________\n",
      "Layer (type)                 Output Shape              Param #   \n",
      "=================================================================\n",
      "conv2d (Conv2D)              (None, 398, 398, 32)      320       \n",
      "_________________________________________________________________\n",
      "activation (Activation)      (None, 398, 398, 32)      0         \n",
      "_________________________________________________________________\n",
      "max_pooling2d (MaxPooling2D) (None, 199, 199, 32)      0         \n",
      "_________________________________________________________________\n",
      "flatten (Flatten)            (None, 1267232)           0         \n",
      "_________________________________________________________________\n",
      "dense (Dense)                (None, 7)                 8870631   \n",
      "=================================================================\n",
      "Total params: 8,870,951\n",
      "Trainable params: 8,870,951\n",
      "Non-trainable params: 0\n",
      "_________________________________________________________________\n"
     ]
    }
   ],
   "source": [
    "model.summary()# da proverimo da li je model dobro ucitan/sacuvan"
   ]
  },
  {
   "cell_type": "code",
   "execution_count": 103,
   "metadata": {},
   "outputs": [],
   "source": [
    "IMG_LOCATION = 'C:/Users/User/Desktop/a.png'"
   ]
  },
  {
   "cell_type": "code",
   "execution_count": null,
   "metadata": {},
   "outputs": [],
   "source": [
    "# nesto nije uredu sa predvidjanjima"
   ]
  },
  {
   "cell_type": "code",
   "execution_count": 105,
   "metadata": {},
   "outputs": [
    {
     "name": "stdout",
     "output_type": "stream",
     "text": [
      "Model je 1936.91% siguran da je odgovor SARS\n"
     ]
    },
    {
     "data": {
      "image/png": "[encoded data removed]",
      "text/plain": [
       "<Figure size 432x288 with 1 Axes>"
      ]
     },
     "metadata": {
      "needs_background": "light"
     },
     "output_type": "display_data"
    }
   ],
   "source": [
    "test_slika = cv2.imread(IMG_LOCATION, cv2.IMREAD_GRAYSCALE)\n",
    "test_slika = cv2.resize(test_slika, dsize=(IMG_SIZE, IMG_SIZE), interpolation=cv2.INTER_CUBIC)\n",
    "plt.imshow(test_slika, cmap='gray')\n",
    "\n",
    "test_slika = np.array(test_slika)\n",
    "test_slika = (np.expand_dims(test_slika,0))\n",
    "test_slika = (np.expand_dims(test_slika,-1))\n",
    "\n",
    "prediction = model.predict(test_slika)\n",
    "print(\"Model je {:.2f}% siguran da je odgovor {}\".format( round(np.amax(prediction[0]),2), KATEGORIJE[np.argmax(prediction[0])]))"
   ]
  }
 ],
 "metadata": {
  "kernelspec": {
   "display_name": "Python 3",
   "language": "python",
   "name": "python3"
  },
  "language_info": {
   "codemirror_mode": {
    "name": "ipython",
    "version": 3
   },
   "file_extension": ".py",
   "mimetype": "text/x-python",
   "name": "python",
   "nbconvert_exporter": "python",
   "pygments_lexer": "ipython3",
   "version": "3.7.6"
  }
 },
 "nbformat": 4,
 "nbformat_minor": 4
}
