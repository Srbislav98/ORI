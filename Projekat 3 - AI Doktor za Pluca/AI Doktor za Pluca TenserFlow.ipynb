{
 "cells": [
  {
   "cell_type": "code",
   "execution_count": 1,
   "metadata": {},
   "outputs": [],
   "source": [
    "import pandas\n",
    "\n",
    "import numpy as np\n",
    "import matplotlib.pyplot as plt\n",
    "import cv2\n",
    "\n",
    "%matplotlib inline"
   ]
  },
  {
   "cell_type": "markdown",
   "metadata": {},
   "source": [
    "Definisanje globalnih promenljivih za lakse menjanje"
   ]
  },
  {
   "cell_type": "code",
   "execution_count": 2,
   "metadata": {},
   "outputs": [],
   "source": [
    "PUTANJA = 'C:/Users/User/Desktop/AI'\n",
    "KATEGORIJE = ['ZDRAV', 'VIRUS', 'BAKTERIJA', 'STREPTOCOCCUS', 'COVID-19', 'ARDS', 'SARS']\n",
    "IMG_SIZE = 400"
   ]
  },
  {
   "cell_type": "code",
   "execution_count": null,
   "metadata": {},
   "outputs": [],
   "source": []
  },
  {
   "cell_type": "code",
   "execution_count": 3,
   "metadata": {},
   "outputs": [],
   "source": [
    "from tensorflow.keras.callbacks import TensorBoard\n",
    "import time\n",
    "\n",
    "IME = \"Model-Pluca-9x2-{}\".format(int(time.time()))\n",
    "tensorboard = TensorBoard(log_dir='logs/{}'.format(IME))"
   ]
  },
  {
   "cell_type": "markdown",
   "metadata": {},
   "source": [
    "Pravljenje niza labela \"train_y\" i punimo ga brojevnim reprezentacijama zadatih kategorija"
   ]
  },
  {
   "cell_type": "code",
   "execution_count": 4,
   "metadata": {},
   "outputs": [],
   "source": [
    "csv_fajl = pandas.read_csv(PUTANJA + r\"\\chest_xray_metadata.csv\")  # promeniti na svoju lokaciju\n",
    "\n",
    "# uklanjamo pusace zbog manjka slika (takodje je tako navedeno u zadatku)\n",
    "\n",
    "train_y = np.ndarray(0)\n",
    "\n",
    "for index, row in csv_fajl.iterrows():\n",
    "    if row['Label'] != 'Normal':\n",
    "        if str(row['Label_2_Virus_category']) != 'nan':\n",
    "            if row['Label_2_Virus_category'] == 'Streptococcus':\n",
    "                #csv_fajl.at[str(index), 'Label'] = 3\n",
    "                train_y = np.append(train_y, 3)\n",
    "                #row['Label'] = 3\n",
    "            elif row['Label_2_Virus_category'] == 'COVID-19':\n",
    "                #csv_fajl.at[str(index), 'Label'] = 4\n",
    "                train_y = np.append(train_y, 4)\n",
    "                #row['Label'] = 4\n",
    "            elif row['Label_2_Virus_category'] == 'ARDS':\n",
    "                #csv_fajl.at[str(index), 'Label'] = 5\n",
    "                train_y = np.append(train_y, 5)\n",
    "                #row['Label'] = 5\n",
    "            elif row['Label_2_Virus_category'] == 'SARS':\n",
    "                #csv_fajl.at[str(index), 'Label'] = 6\n",
    "                train_y = np.append(train_y, 6)\n",
    "                #row['Label'] = 6\n",
    "            else:\n",
    "                print('promaseno ' + row['Label_2_Virus_category'])\n",
    "            # print(row['Label'], \" => \" , row['Label_1_Virus_category'], \"|\", row['Label_2_Virus_category'])#, row['X_ray_image_name'])\n",
    "        else:\n",
    "            if row['Label_1_Virus_category'] == 'Virus':\n",
    "                #csv_fajl.at[str(index), 'Label'] = 1\n",
    "                train_y = np.append(train_y, 1)\n",
    "                #row['Label'] = 1\n",
    "            elif row['Label_1_Virus_category'] == 'bacteria':\n",
    "                #csv_fajl.at[str(index), 'Label'] = 2\n",
    "                train_y = np.append(train_y, 2)\n",
    "                #row['Label'] = 2\n",
    "            else:\n",
    "                print('promaseno ' + row['Label_1_Virus_category'])\n",
    "            # print(row['Label'], \" => \" , row['Label_1_Virus_category'], \"|\", row['Label_2_Virus_category'])#, row['X_ray_image_name'])\n",
    "    else:\n",
    "        #csv_fajl.at[str(index), 'Label'] = 0\n",
    "        train_y = np.append(train_y, 0)\n",
    "        #row['Label'] = 0"
   ]
  },
  {
   "cell_type": "markdown",
   "metadata": {},
   "source": []
  },
  {
   "cell_type": "code",
   "execution_count": 5,
   "metadata": {},
   "outputs": [],
   "source": [
    "csv_fajl.head()\n",
    "training_data = []\n",
    "\n",
    "for index, row in csv_fajl.iterrows():\n",
    "    img_name = row['X_ray_image_name']\n",
    "    lokacija = PUTANJA + '/snimci/' + str(img_name)\n",
    "    try:# za slucaj da neka slika ostecena \n",
    "        slika = cv2.imread(lokacija, cv2.IMREAD_GRAYSCALE)\n",
    "        slika = cv2.resize(slika, dsize=(IMG_SIZE, IMG_SIZE), interpolation=cv2.INTER_CUBIC)\n",
    "        training_data.append([slika, int(train_y[index])])\n",
    "    except:\n",
    "        print(\"Ostecena slika \" + str(img_name))"
   ]
  },
  {
   "cell_type": "code",
   "execution_count": 6,
   "metadata": {},
   "outputs": [
    {
     "name": "stdout",
     "output_type": "stream",
     "text": [
      "5286\n"
     ]
    },
    {
     "data": {
      "text/plain": [
       "'\\nfor index, row in csv_fajl.iterrows():\\n    img_name = row[\\'X_ray_image_name\\']\\n    lokacija = PUTANJA + \\'/snimci/\\' + str(img_name)\\n    try:# za slucaj da neka slika ostecena \\n        slika = cv2.imread(lokacija, cv2.IMREAD_GRAYSCALE)\\n        slika = cv2.resize(slika, dsize=(IMG_SIZE, IMG_SIZE), interpolation=cv2.INTER_CUBIC)\\n        print(str(train_y[index]) + \" ==> \" + str(img_name))\\n    except:\\n        print(\"Ostecena slika \" + str(img_name))\\n'"
      ]
     },
     "execution_count": 6,
     "metadata": {},
     "output_type": "execute_result"
    }
   ],
   "source": [
    "print(len(training_data))\n",
    "\"\"\"\n",
    "for index, row in csv_fajl.iterrows():\n",
    "    img_name = row['X_ray_image_name']\n",
    "    lokacija = PUTANJA + '/snimci/' + str(img_name)\n",
    "    try:# za slucaj da neka slika ostecena \n",
    "        slika = cv2.imread(lokacija, cv2.IMREAD_GRAYSCALE)\n",
    "        slika = cv2.resize(slika, dsize=(IMG_SIZE, IMG_SIZE), interpolation=cv2.INTER_CUBIC)\n",
    "        print(str(train_y[index]) + \" ==> \" + str(img_name))\n",
    "    except:\n",
    "        print(\"Ostecena slika \" + str(img_name))\n",
    "\"\"\""
   ]
  },
  {
   "cell_type": "code",
   "execution_count": 7,
   "metadata": {},
   "outputs": [],
   "source": [
    "import random\n",
    "\n",
    "random.shuffle(training_data)"
   ]
  },
  {
   "cell_type": "code",
   "execution_count": null,
   "metadata": {},
   "outputs": [],
   "source": []
  },
  {
   "cell_type": "code",
   "execution_count": 8,
   "metadata": {},
   "outputs": [],
   "source": [
    "X = []\n",
    "y = []"
   ]
  },
  {
   "cell_type": "code",
   "execution_count": null,
   "metadata": {},
   "outputs": [],
   "source": []
  },
  {
   "cell_type": "code",
   "execution_count": 9,
   "metadata": {},
   "outputs": [],
   "source": [
    "for features, label in training_data:\n",
    "    X.append(features)\n",
    "    y.append(label)\n",
    "    \n",
    "X = np.array(X).reshape(-1, IMG_SIZE, IMG_SIZE, 1)"
   ]
  },
  {
   "cell_type": "code",
   "execution_count": null,
   "metadata": {},
   "outputs": [],
   "source": []
  },
  {
   "cell_type": "code",
   "execution_count": 10,
   "metadata": {},
   "outputs": [],
   "source": [
    "import pickle\n",
    "\n",
    "pickle_out = open(\"X.pickle\", \"wb\")\n",
    "pickle.dump(X, pickle_out)\n",
    "pickle_out.close()\n",
    "\n",
    "pickle_out = open(\"y.pickle\", \"wb\")\n",
    "pickle.dump(y, pickle_out)\n",
    "pickle_out.close()"
   ]
  },
  {
   "cell_type": "markdown",
   "metadata": {},
   "source": [
    "Kreiranje CNN-a"
   ]
  },
  {
   "cell_type": "code",
   "execution_count": 11,
   "metadata": {},
   "outputs": [],
   "source": [
    "import tensorflow as tf\n",
    "from tensorflow.keras.models import Sequential\n",
    "from tensorflow.keras.layers import Dense, Dropout, Activation, Flatten, Conv2D, MaxPooling2D"
   ]
  },
  {
   "cell_type": "code",
   "execution_count": 12,
   "metadata": {},
   "outputs": [],
   "source": [
    "import pickle\n",
    "X = pickle.load(open(\"X.pickle\", \"rb\"))\n",
    "y = pickle.load(open(\"y.pickle\", \"rb\"))\n",
    "\n",
    "X = X/255.0"
   ]
  },
  {
   "cell_type": "code",
   "execution_count": 13,
   "metadata": {},
   "outputs": [],
   "source": [
    "#import os\n",
    "#os.environ[\"CUDA_DEVICE_ORDER\"] = \"PCI_BUS_ID\"\n",
    "#os.environ['CUDA_VISIBLE_DEVICES'] = '-1'"
   ]
  },
  {
   "cell_type": "code",
   "execution_count": 19,
   "metadata": {},
   "outputs": [
    {
     "name": "stdout",
     "output_type": "stream",
     "text": [
      "Model: \"sequential_3\"\n",
      "_________________________________________________________________\n",
      "Layer (type)                 Output Shape              Param #   \n",
      "=================================================================\n",
      "flatten_3 (Flatten)          (None, 160000)            0         \n",
      "_________________________________________________________________\n",
      "dense_6 (Dense)              (None, 128)               20480128  \n",
      "_________________________________________________________________\n",
      "dense_7 (Dense)              (None, 7)                 903       \n",
      "=================================================================\n",
      "Total params: 20,481,031\n",
      "Trainable params: 20,481,031\n",
      "Non-trainable params: 0\n",
      "_________________________________________________________________\n"
     ]
    }
   ],
   "source": [
    "#######################\n",
    "from tensorflow.keras.optimizers import RMSprop\n",
    "model = tf.keras.models.Sequential([\n",
    "  \n",
    "    # Note the input shape is the desired size of the image 300x300 with 3 bytes color\n",
    "    # This is the first convolution\n",
    "    # model.add(Conv2D(64, (3,3), input_shape = X.shape[1:]))\n",
    "    tf.keras.layers.Flatten(input_shape = X.shape[1:]),\n",
    "    tf.keras.layers.Dense(128, activation='relu'),\n",
    "    tf.keras.layers.Dense(7)\n",
    "])\n",
    "\n",
    "# to get the summary of the model\n",
    "model.summary()\n",
    "\n",
    "# configure the model for traning by adding metrics\n",
    "model.compile(optimizer='adam',\n",
    "              loss=tf.keras.losses.SparseCategoricalCrossentropy(from_logits=True),\n",
    "              metrics=['accuracy']\n",
    "             )\n",
    "#######################"
   ]
  },
  {
   "cell_type": "markdown",
   "metadata": {},
   "source": [
    "model = Sequential()\n",
    "model.add(Conv2D(64, (3,3), input_shape = X.shape[1:]))\n",
    "model.add(Activation(\"relu\"))\n",
    "model.add(MaxPooling2D(pool_size=(2,2)))\n",
    "\n",
    "model.add(Conv2D(64, (3,3)))\n",
    "model.add(Activation(\"relu\"))\n",
    "model.add(MaxPooling2D(pool_size=(2,2)))\n",
    "\n",
    "model.add(Flatten())\n",
    "\n",
    "model.add(Dense(1))\n",
    "model.add(Activation('sigmoid'))\n",
    "\n",
    "model.compile(loss=\"categorical_crossentropy\",\n",
    "             optimizer=\"adam\",\n",
    "             metrics=['accuracy'])"
   ]
  },
  {
   "cell_type": "code",
   "execution_count": null,
   "metadata": {},
   "outputs": [],
   "source": []
  },
  {
   "cell_type": "code",
   "execution_count": 21,
   "metadata": {},
   "outputs": [
    {
     "name": "stdout",
     "output_type": "stream",
     "text": [
      "Epoch 1/2\n",
      "  2/529 [..............................] - ETA: 23:48 - loss: 68.0469 - accuracy: 0.1667 WARNING:tensorflow:Method (on_train_batch_end) is slow compared to the batch update (2.664215). Check your callbacks.\n",
      "  3/529 [..............................] - ETA: 17:08 - loss: 53.7411 - accuracy: 0.1852WARNING:tensorflow:Method (on_train_batch_end) is slow compared to the batch update (1.536739). Check your callbacks.\n",
      "  4/529 [..............................] - ETA: 13:55 - loss: 52.1581 - accuracy: 0.2778WARNING:tensorflow:Method (on_train_batch_end) is slow compared to the batch update (0.768886). Check your callbacks.\n",
      "529/529 [==============================] - 83s 157ms/step - loss: 11.1524 - accuracy: 0.5987 - val_loss: 3.5607 - val_accuracy: 0.6673\n",
      "Epoch 2/2\n",
      "529/529 [==============================] - 36s 67ms/step - loss: 1.3039 - accuracy: 0.6153 - val_loss: 0.7916 - val_accuracy: 0.6749\n"
     ]
    },
    {
     "data": {
      "text/plain": [
       "<tensorflow.python.keras.callbacks.History at 0x22c8de9ee88>"
      ]
     },
     "execution_count": 21,
     "metadata": {},
     "output_type": "execute_result"
    }
   ],
   "source": [
    "model.fit(np.array(X), np.array(y), batch_size=9,  epochs=2, validation_split=0.1, callbacks=[tensorboard])"
   ]
  },
  {
   "cell_type": "code",
   "execution_count": null,
   "metadata": {},
   "outputs": [],
   "source": []
  },
  {
   "cell_type": "markdown",
   "metadata": {},
   "source": [
    "za 400:\n",
    "    Epoch 1/10\n",
    "    529/529 518s 979ms/step - loss: 1.5214e-07 - accuracy: 0.2466 - val_loss: 1.3859e-07 - val_accuracy: 0.3119\n",
    "    Epoch 2/10\n",
    "    529/529 507s 958ms/step - loss: 1.5214e-07 - accuracy: 0.2466 - val_loss: 1.3859e-07 - val_accuracy: 0.3119\n",
    "    \n",
    "za 350:\n",
    "    Epoch 1/10\n",
    "    529/529 394s 745ms/step - loss: 1.4998e-07 - accuracy: 0.2527 - val_loss: 1.5797e-07 - val_accuracy: 0.2212"
   ]
  },
  {
   "cell_type": "code",
   "execution_count": null,
   "metadata": {},
   "outputs": [],
   "source": []
  },
  {
   "cell_type": "code",
   "execution_count": null,
   "metadata": {},
   "outputs": [],
   "source": []
  },
  {
   "cell_type": "code",
   "execution_count": null,
   "metadata": {},
   "outputs": [],
   "source": []
  },
  {
   "cell_type": "code",
   "execution_count": null,
   "metadata": {},
   "outputs": [],
   "source": []
  },
  {
   "cell_type": "code",
   "execution_count": null,
   "metadata": {},
   "outputs": [],
   "source": []
  },
  {
   "cell_type": "code",
   "execution_count": null,
   "metadata": {},
   "outputs": [],
   "source": []
  }
 ],
 "metadata": {
  "kernelspec": {
   "display_name": "Python 3",
   "language": "python",
   "name": "python3"
  }
 },
 "nbformat": 4,
 "nbformat_minor": 4
}
