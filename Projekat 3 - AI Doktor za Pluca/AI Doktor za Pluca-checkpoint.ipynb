{
 "cells": [
  {
   "cell_type": "code",
   "execution_count": 1,
   "metadata": {},
   "outputs": [],
   "source": [
    "import pandas\n",
    "import numpy as np\n",
    "\n",
    "from skimage.io import imread\n",
    "import matplotlib.pyplot as plt\n",
    "import cv2\n",
    "%matplotlib inline\n",
    "\n",
    "from sklearn.model_selection import train_test_split\n",
    "from sklearn.metrics import accuracy_score\n",
    "from tqdm import tqdm\n",
    "\n",
    "import torch\n",
    "from torch.autograd import Variable\n",
    "from torch.nn import Linear, ReLU, CrossEntropyLoss, Sequential, Conv2d, MaxPool2d, Module, Softmax, BatchNorm2d, Dropout\n",
    "from torch.optim import Adam, SGD"
   ]
  },
  {
   "cell_type": "markdown",
   "metadata": {},
   "source": [
    "# Potrebam pytgon interpreter sa PyTorch bibliotekom\n",
    "# Uradjeno na NVIDIA grafickom karticom sa CUDA-om"
   ]
  },
  {
   "cell_type": "code",
   "execution_count": 2,
   "metadata": {},
   "outputs": [
    {
     "name": "stdout",
     "output_type": "stream",
     "text": [
      "True\n"
     ]
    },
    {
     "ename": "AttributeError",
     "evalue": "'numpy.ndarray' object has no attribute 'to'",
     "output_type": "error",
     "traceback": [
      "\u001b[1;31m---------------------------------------------------------------------------\u001b[0m",
      "\u001b[1;31mAttributeError\u001b[0m                            Traceback (most recent call last)",
      "\u001b[1;32m<ipython-input-2-fe2a6a9cc079>\u001b[0m in \u001b[0;36m<module>\u001b[1;34m\u001b[0m\n\u001b[0;32m     46\u001b[0m         \u001b[1;31m#row['Label'] = 0\u001b[0m\u001b[1;33m\u001b[0m\u001b[1;33m\u001b[0m\u001b[1;33m\u001b[0m\u001b[0m\n\u001b[0;32m     47\u001b[0m \u001b[1;33m\u001b[0m\u001b[0m\n\u001b[1;32m---> 48\u001b[1;33m \u001b[0mtrain_y\u001b[0m\u001b[1;33m.\u001b[0m\u001b[0mto\u001b[0m\u001b[1;33m(\u001b[0m\u001b[0mdevice\u001b[0m\u001b[1;33m=\u001b[0m\u001b[1;34m'cuda'\u001b[0m\u001b[1;33m,\u001b[0m \u001b[0mdtype\u001b[0m\u001b[1;33m=\u001b[0m\u001b[0mtorch\u001b[0m\u001b[1;33m.\u001b[0m\u001b[0mfloat\u001b[0m\u001b[1;33m)\u001b[0m\u001b[1;33m\u001b[0m\u001b[1;33m\u001b[0m\u001b[0m\n\u001b[0m",
      "\u001b[1;31mAttributeError\u001b[0m: 'numpy.ndarray' object has no attribute 'to'"
     ]
    }
   ],
   "source": [
    "print(torch.cuda.is_available())\n",
    "csv_fajl = pandas.read_csv(r\"C:\\Users\\User\\Desktop\\AI\\chest_xray_metadata.csv\")  # promeniti na svoju lokaciju\n",
    "\n",
    "csv_fajl = csv_fajl[csv_fajl.Label_1_Virus_category != 'Stress-Smoking']\n",
    "# uklanjamo pusace zbog manjka slika (takodje je tako navedeno u zadatku)\n",
    "\n",
    "train_y = np.ndarray(0)\n",
    "\n",
    "for index, row in csv_fajl.iterrows():\n",
    "    if row['Label'] != 'Normal':\n",
    "        if str(row['Label_2_Virus_category']) != 'nan':\n",
    "            if row['Label_2_Virus_category'] == 'Streptococcus':\n",
    "                #csv_fajl.at[str(index), 'Label'] = 3\n",
    "                train_y = np.append(train_y, 3)\n",
    "                #row['Label'] = 3\n",
    "            elif row['Label_2_Virus_category'] == 'COVID-19':\n",
    "                #csv_fajl.at[str(index), 'Label'] = 4\n",
    "                train_y = np.append(train_y, 4)\n",
    "                #row['Label'] = 4\n",
    "            elif row['Label_2_Virus_category'] == 'ARDS':\n",
    "                #csv_fajl.at[str(index), 'Label'] = 5\n",
    "                train_y = np.append(train_y, 5)\n",
    "                #row['Label'] = 5\n",
    "            elif row['Label_2_Virus_category'] == 'SARS':\n",
    "                #csv_fajl.at[str(index), 'Label'] = 6\n",
    "                train_y = np.append(train_y, 6)\n",
    "                #row['Label'] = 6\n",
    "            else:\n",
    "                print('promaseno ' + row['Label_2_Virus_category'])\n",
    "            # print(row['Label'], \" => \" , row['Label_1_Virus_category'], \"|\", row['Label_2_Virus_category'])#, row['X_ray_image_name'])\n",
    "        else:\n",
    "            if row['Label_1_Virus_category'] == 'Virus':\n",
    "                #csv_fajl.at[str(index), 'Label'] = 1\n",
    "                train_y = np.append(train_y, 1)\n",
    "                #row['Label'] = 1\n",
    "            elif row['Label_1_Virus_category'] == 'bacteria':\n",
    "                #csv_fajl.at[str(index), 'Label'] = 2\n",
    "                train_y = np.append(train_y, 2)\n",
    "                #row['Label'] = 2\n",
    "            else:\n",
    "                print('promaseno ' + row['Label_1_Virus_category'])\n",
    "            # print(row['Label'], \" => \" , row['Label_1_Virus_category'], \"|\", row['Label_2_Virus_category'])#, row['X_ray_image_name'])\n",
    "    else:\n",
    "        #csv_fajl.at[str(index), 'Label'] = 0\n",
    "        train_y = np.append(train_y, 0)\n",
    "        #row['Label'] = 0"
   ]
  },
  {
   "cell_type": "markdown",
   "metadata": {},
   "source": [
    "# /\\ kod za ucitavanje i obradu informacija iz fajla\n",
    "# |                                                                             \n",
    "# V kod za kupljenje slika u niz"
   ]
  },
  {
   "cell_type": "code",
   "execution_count": null,
   "metadata": {},
   "outputs": [],
   "source": [
    "csv_fajl.head()\n",
    "img_niz = []\n",
    "for index, row in csv_fajl.iterrows():\n",
    "    img_name = row['X_ray_image_name']\n",
    "    lokacija = 'C:/Users/User/Desktop/AI/snimci/' + str(img_name)\n",
    "    slika = imread(lokacija, as_gray=True)/255.0\n",
    "    slika = cv2.resize(slika, dsize=(50, 50), interpolation=cv2.INTER_CUBIC)\n",
    "    slika = slika.astype('float32')\n",
    "    img_niz.append(slika)\n",
    "\n",
    "\n",
    "train_x = np.array(img_niz)\n",
    "#train_y = csv_fajl['Label'].values\n",
    "train_x.shape"
   ]
  },
  {
   "cell_type": "code",
   "execution_count": null,
   "metadata": {},
   "outputs": [],
   "source": [
    "#img_niz = []#brisanje slika (za oslobadjanje memorije)"
   ]
  },
  {
   "cell_type": "markdown",
   "metadata": {},
   "source": [
    "# /\\ Kod za oslobadjanje memorije \n",
    "# V Prikaz prve 4 slike"
   ]
  },
  {
   "cell_type": "code",
   "execution_count": null,
   "metadata": {
    "scrolled": false
   },
   "outputs": [],
   "source": [
    "plt.figure(figsize=(10,10))\n",
    "plt.subplot(221), plt.imshow(train_x[0], cmap='gray')\n",
    "plt.subplot(222), plt.imshow(train_x[1], cmap='gray')\n",
    "plt.subplot(223), plt.imshow(train_x[2], cmap='gray')\n",
    "plt.subplot(224), plt.imshow(train_x[3], cmap='gray')"
   ]
  },
  {
   "cell_type": "code",
   "execution_count": null,
   "metadata": {},
   "outputs": [],
   "source": [
    "train_x, val_x, train_y, val_y = train_test_split(train_x, train_y, test_size = 0.1)\n",
    "(train_x.shape, train_y.shape), (val_x.shape, val_y.shape)"
   ]
  },
  {
   "cell_type": "code",
   "execution_count": null,
   "metadata": {},
   "outputs": [],
   "source": [
    "train_x = train_x.reshape(4755, 1, 50, 50)\n",
    "train_x  = torch.from_numpy(train_x)\n",
    "\n",
    "train_y = train_y.astype(int);\n",
    "train_y = torch.from_numpy(train_y)\n",
    "\n",
    "\n",
    "val_x = val_x.reshape(529, 1, 50, 50)\n",
    "val_x  = torch.from_numpy(val_x)\n",
    "\n",
    "val_y = val_y.astype(int);\n",
    "val_y = torch.from_numpy(val_y)\n",
    "\n",
    "\n",
    "# val_x = val_x.reshape(529, 1, 50, 50)\n",
    "# val_x  = torch.from_numpy(val_x)"
   ]
  },
  {
   "cell_type": "code",
   "execution_count": null,
   "metadata": {},
   "outputs": [],
   "source": [
    "train_x.shape, train_y.shape\n",
    "val_x.shape, val_y.shape"
   ]
  },
  {
   "cell_type": "markdown",
   "metadata": {},
   "source": [
    "# Kreiranje CNN-a"
   ]
  },
  {
   "cell_type": "code",
   "execution_count": null,
   "metadata": {},
   "outputs": [],
   "source": [
    "class Net(Module):   \n",
    "    def __init__(self):\n",
    "        super(Net, self).__init__()\n",
    "\n",
    "        self.cnn_layers = Sequential(\n",
    "            # Defining a 2D convolution layer\n",
    "            Conv2d(1, 4, kernel_size=3, stride=1, padding=1),\n",
    "            BatchNorm2d(4),\n",
    "            ReLU(inplace=True),\n",
    "            MaxPool2d(kernel_size=2, stride=2),\n",
    "            # Defining another 2D convolution layer\n",
    "            Conv2d(4, 4, kernel_size=3),\n",
    "            BatchNorm2d(4),\n",
    "            ReLU(inplace=True),\n",
    "            MaxPool2d(kernel_size=2, stride=2),\n",
    "        )\n",
    "\n",
    "        self.linear_layers = Sequential(\n",
    "            Linear(484, 7)#, Linear(484, 7) #[4755 x 484], m2: [4755 x 7]\n",
    "            #[4755 x 484], m2: [4755 x 7]\n",
    "            #m1: [4755 x 484], m2: [4755 x 484] \n",
    "        )\n",
    "    \n",
    "    def forward(self, x):\n",
    "        x = x.float()\n",
    "        x = self.cnn_layers(x)\n",
    "        x = x.view(x.size(0), -1)\n",
    "        x = self.linear_layers(x)\n",
    "        return x"
   ]
  },
  {
   "cell_type": "markdown",
   "metadata": {},
   "source": [
    "Pravljenje modela"
   ]
  },
  {
   "cell_type": "code",
   "execution_count": null,
   "metadata": {},
   "outputs": [],
   "source": [
    "model = Net()\n",
    "# defining the optimizer\n",
    "optimizer = Adam(model.parameters(), lr=0.07)\n",
    "# defining the loss function\n",
    "criterion = CrossEntropyLoss()\n",
    "# checking if GPU is available\n",
    "if torch.cuda.is_available():\n",
    "    model = model.cuda()\n",
    "    criterion = criterion.cuda()\n",
    "    \n",
    "print(model)"
   ]
  },
  {
   "cell_type": "code",
   "execution_count": null,
   "metadata": {},
   "outputs": [],
   "source": [
    "def train(epoch):\n",
    "    model.train()\n",
    "    tr_loss = 0\n",
    "    # getting the training set\n",
    "    ###### x_train, y_train = Variable(train_x), Variable(train_y)\n",
    "    x_train = torch.from_numpy(np.array(train_x))\n",
    "    y_train = torch.from_numpy(np.array(train_y))\n",
    "    # getting the validation set\n",
    "    ###### x_val, y_val = Variable(val_x), Variable(val_y)\n",
    "    x_val = torch.from_numpy(np.array(val_x))\n",
    "    y_val = torch.from_numpy(np.array(val_y))\n",
    "    # converting the data into GPU format\n",
    "    if torch.cuda.is_available():\n",
    "        x_train = x_train.cuda()\n",
    "        y_train = y_train.cuda()\n",
    "        x_val = x_val.cuda()\n",
    "        y_val = y_val.cuda()\n",
    "\n",
    "    # clearing the Gradients of the model parameters\n",
    "    optimizer.zero_grad()\n",
    "    \n",
    "    # prediction for training and validation set\n",
    "    output_train = model(x_train)\n",
    "    output_val = model(x_val)\n",
    "\n",
    "    # computing the training and validation loss\n",
    "    loss_train = criterion(output_train, y_train)\n",
    "    loss_val = criterion(output_val, y_val)\n",
    "    train_losses.append(loss_train)\n",
    "    val_losses.append(loss_val)\n",
    "\n",
    "    # computing the updated weights of all the model parameters\n",
    "    loss_train.backward()\n",
    "    optimizer.step()\n",
    "    tr_loss = loss_train.item()\n",
    "    if epoch%2 == 0:\n",
    "        # printing the validation loss\n",
    "        print('Epoch : ',epoch+1, '\\t', 'loss :', loss_val)"
   ]
  },
  {
   "cell_type": "markdown",
   "metadata": {},
   "source": [
    "#  Treniranje modela"
   ]
  },
  {
   "cell_type": "code",
   "execution_count": null,
   "metadata": {},
   "outputs": [],
   "source": [
    "n_epochs = 4\n",
    "\n",
    "train_losses = []\n",
    "val_losses = []\n",
    "\n",
    "for epoch in range(n_epochs):\n",
    "    train(epoch)"
   ]
  },
  {
   "cell_type": "markdown",
   "metadata": {},
   "source": [
    "# Crtanje grafika"
   ]
  },
  {
   "cell_type": "code",
   "execution_count": null,
   "metadata": {},
   "outputs": [],
   "source": [
    "# plotting the training and validation loss\n",
    "plt.plot(train_losses, label='Training loss')\n",
    "plt.plot(val_losses, label='Validation loss')\n",
    "plt.legend()\n",
    "plt.show()\n"
   ]
  }
 ],
 "metadata": {
  "kernelspec": {
   "display_name": "Python 3",
   "language": "python",
   "name": "python3"
  },
  "language_info": {
   "codemirror_mode": {
    "name": "ipython",
    "version": 3
   },
   "file_extension": ".py",
   "mimetype": "text/x-python",
   "name": "python",
   "nbconvert_exporter": "python",
   "pygments_lexer": "ipython3",
   "version": "3.7.6"
  }
 },
 "nbformat": 4,
 "nbformat_minor": 4
}
