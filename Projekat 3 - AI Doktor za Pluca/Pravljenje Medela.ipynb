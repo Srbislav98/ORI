{
 "cells": [
  {
   "cell_type": "markdown",
   "metadata": {},
   "source": [
    "Ucitavanje biblioteka za ucitavanje podataka"
   ]
  },
  {
   "cell_type": "code",
   "execution_count": null,
   "metadata": {},
   "outputs": [],
   "source": [
    "import pandas\n",
    "\n",
    "import numpy as np\n",
    "import matplotlib.pyplot as plt\n",
    "import cv2\n",
    "\n",
    "%matplotlib inline"
   ]
  },
  {
   "cell_type": "markdown",
   "metadata": {},
   "source": [
    "Definisanje globalnih promenljivih za lakse menjanje"
   ]
  },
  {
   "cell_type": "code",
   "execution_count": null,
   "metadata": {},
   "outputs": [],
   "source": [
    "PUTANJA = 'C:/Users/User/Desktop/AI'\n",
    "KATEGORIJE = ['ZDRAV', 'VIRUS', 'BAKTERIJA']\n",
    "IMG_SIZE = 400"
   ]
  },
  {
   "cell_type": "markdown",
   "metadata": {},
   "source": [
    "Ucitavamo biblioteku za logovanje performansi modela, i definisemo mu ime"
   ]
  },
  {
   "cell_type": "code",
   "execution_count": null,
   "metadata": {},
   "outputs": [],
   "source": [
    "from tensorflow.keras.callbacks import TensorBoard\n",
    "import time\n",
    "\n",
    "IME = \"Model-Pluca-9x2-{}-v2_0\".format(int(time.time()))\n",
    "tensorboard = TensorBoard(log_dir='logs/{}'.format(IME))"
   ]
  },
  {
   "cell_type": "markdown",
   "metadata": {},
   "source": [
    "Pravljenje niza labela (train_y) i punimo ga brojevnim reprezentacijama zadatih kategorija"
   ]
  },
  {
   "cell_type": "code",
   "execution_count": null,
   "metadata": {},
   "outputs": [],
   "source": [
    "csv_fajl = pandas.read_csv(PUTANJA + r\"\\chest_xray_metadata.csv\")  # promeniti na svoju lokaciju\n",
    "\n",
    "# uklanjamo pusace zbog manjka slika (takodje je tako navedeno u zadatku)\n",
    "\n",
    "train_y = np.ndarray(0)\n",
    "\n",
    "for index, row in csv_fajl.iterrows():\n",
    "    if row['Label'] != 'Normal':\n",
    "        if row['Label_1_Virus_category'] == 'Virus':\n",
    "            train_y = np.append(train_y, 1)\n",
    "        elif row['Label_1_Virus_category'] == 'bacteria':\n",
    "            train_y = np.append(train_y, 2)\n",
    "        else:\n",
    "            print(\"Neodgovarajuca labela na slici {}\".format(row['X_ray_image_name']))\n",
    "    else:\n",
    "        train_y = np.append(train_y, 0)\n",
    "        \n",
    "trainy2 = np.ndarray(0)\n",
    "\n",
    "for index, row in csv_fajl.iterrows():\n",
    "    if row['Label'] != 'Normal':\n",
    "        if row['Label_1_Virus_category'] == 'Virus':\n",
    "            trainy2 = np.append(trainy2, 1)\n",
    "        elif row['Label_1_Virus_category'] == 'bacteria':\n",
    "            trainy2 = np.append(trainy2, 2)\n",
    "        else:\n",
    "            trainy2 = np.append(trainy2, -1)\n",
    "    else:\n",
    "        trainy2 = np.append(trainy2, 0)"
   ]
  },
  {
   "cell_type": "markdown",
   "metadata": {},
   "source": [
    "Ponovo prolazimo kroz fajl, ali ovaj put da ucitamo slike u niz (training_data), zajedno sa labelama iz proslog niza (train_y)"
   ]
  },
  {
   "cell_type": "code",
   "execution_count": null,
   "metadata": {},
   "outputs": [],
   "source": [
    "csv_fajl.head()\n",
    "training_data = []\n",
    "\n",
    "for index, row in csv_fajl.iterrows():\n",
    "    if trainy2[index] != -1:\n",
    "        img_name = row['X_ray_image_name']\n",
    "        lokacija = PUTANJA + '/snimci/' + str(img_name)\n",
    "        try:# za slucaj da neka slika ostecena \n",
    "            slika = cv2.imread(lokacija, cv2.IMREAD_GRAYSCALE)\n",
    "            slika = cv2.resize(slika, dsize=(IMG_SIZE, IMG_SIZE), interpolation=cv2.INTER_CUBIC)\n",
    "            training_data.append([slika, int(trainy2[index])])\n",
    "        except:\n",
    "            print(\"Ostecena slika \" + str(img_name))"
   ]
  },
  {
   "cell_type": "markdown",
   "metadata": {},
   "source": [
    "BITNO: Moramo da se postaramo da slike niju u redosledu"
   ]
  },
  {
   "cell_type": "code",
   "execution_count": null,
   "metadata": {},
   "outputs": [],
   "source": [
    "import random\n",
    "\n",
    "random.shuffle(training_data)"
   ]
  },
  {
   "cell_type": "markdown",
   "metadata": {},
   "source": [
    "Delimo niz (training_data) u 2 niza (X i y), i menjamo oblik (shape) niza X da bi tensorflow mogao da radi sa njima"
   ]
  },
  {
   "cell_type": "code",
   "execution_count": null,
   "metadata": {},
   "outputs": [],
   "source": [
    "for features, label in training_data:\n",
    "    X.append(features)\n",
    "    y.append(label)\n",
    "    \n",
    "X = np.array(X).reshape(-1, IMG_SIZE, IMG_SIZE, 1)"
   ]
  },
  {
   "cell_type": "markdown",
   "metadata": {},
   "source": [
    "Poslednji korak\n",
    "\n",
    "# Pravljenje, pokretanje, pracenje i cuvanje modela"
   ]
  },
  {
   "cell_type": "code",
   "execution_count": null,
   "metadata": {},
   "outputs": [],
   "source": [
    "import tensorflow as tf\n",
    "from tensorflow.keras.models import Sequential\n",
    "from tensorflow.keras.layers import Dense, Dropout, Activation, Flatten, Conv2D, MaxPooling2D\n",
    "\n",
    "from tensorflow.keras.optimizers import RMSprop\n",
    "\n",
    "dense_layers = [0]\n",
    "layer_sizes = [32]\n",
    "conv_layers = [1]\n",
    "\n",
    "for epp in [20]:#[1, 2, 3, 5, 10]:\n",
    "    for dense_layer in dense_layers:\n",
    "        for layer_size in layer_sizes:\n",
    "            for conv_layer in conv_layers:\n",
    "                NAME = \"{}-dense---{}-nodes---{}-conv---{}-v2_0\".format(dense_layer, layer_size, conv_layer, int(time.time()))\n",
    "                tensorboard = TensorBoard(log_dir='logs_test/{}'.format(IME))\n",
    "                print(NAME)\n",
    "\n",
    "                model = tf.keras.models.Sequential()\n",
    "\n",
    "                model.add(Conv2D(layer_size, (3, 3), input_shape = X.shape[1:]))\n",
    "                model.add(Activation('relu'))\n",
    "                model.add(MaxPooling2D(pool_size=(2, 2)))\n",
    "\n",
    "                for l in range(conv_layer-1):\n",
    "                    model.add(Conv2D(layer_size, (3, 3)))\n",
    "                    model.add(Activation('relu'))\n",
    "                    model.add(MaxPooling2D(pool_size=(2, 2)))\n",
    "\n",
    "                model.add(Flatten())\n",
    "\n",
    "                for l in range(dense_layer):\n",
    "                    model.add(Dense(layer_size))\n",
    "                    model.add(Activation('relu'))\n",
    "\n",
    "\n",
    "                model.add(Dense(3))\n",
    "\n",
    "                model.compile(optimizer='adam',\n",
    "                              loss=tf.keras.losses.SparseCategoricalCrossentropy(from_logits=True),\n",
    "                              metrics=['accuracy']\n",
    "                )\n",
    "                model.fit(np.array(X), np.array(y), batch_size=9,  epochs=epp, validation_split=0.1, callbacks=[tensorboard])\n",
    "                model.save('saved_model\\\\100ep' + str(epp))"
   ]
  }
 ],
 "metadata": {
  "kernelspec": {
   "display_name": "Python 3",
   "language": "python",
   "name": "python3"
  },
  "language_info": {
   "codemirror_mode": {
    "name": "ipython",
    "version": 3
   },
   "file_extension": ".py",
   "mimetype": "text/x-python",
   "name": "python",
   "nbconvert_exporter": "python",
   "pygments_lexer": "ipython3",
   "version": "3.7.6"
  }
 },
 "nbformat": 4,
 "nbformat_minor": 4
}
